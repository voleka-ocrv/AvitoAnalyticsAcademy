{
  "nbformat": 4,
  "nbformat_minor": 0,
  "metadata": {
    "colab": {
      "provenance": [],
      "toc_visible": true,
      "authorship_tag": "ABX9TyN/Kxu1+P/OhTUuaTz61AcE",
      "include_colab_link": true
    },
    "kernelspec": {
      "name": "python3",
      "display_name": "Python 3"
    },
    "language_info": {
      "name": "python"
    }
  },
  "cells": [
    {
      "cell_type": "markdown",
      "metadata": {
        "id": "view-in-github",
        "colab_type": "text"
      },
      "source": [
        "<a href=\"https://colab.research.google.com/github/voleka-ocrv/AvitoAnalyticsAcademy/blob/main/ch4_t_test.ipynb\" target=\"_parent\"><img src=\"https://colab.research.google.com/assets/colab-badge.svg\" alt=\"Open In Colab\"/></a>"
      ]
    },
    {
      "cell_type": "markdown",
      "source": [
        "#4.1. [Критерии сравнения средних, Т-критерий Стьюдента](https://www.youtube.com/watch?v=DDFctajZEnA&t=1s)"
      ],
      "metadata": {
        "id": "rNsDsDhrWt2m"
      }
    },
    {
      "cell_type": "markdown",
      "source": [
        "##Задача\n",
        "\n",
        "Есть старая база данных, загрузка данных в среднем занимает 10 ч. Мы подсчитали, что если снизить среднюю скорость загрузки так, чтобы она была меньше 7 ч., это сэкономит компании много денег. На одну неделю мы взяли в аренду новое железо, утверждается, что на нем получится достигнуть целевого снижения скорости загрузки.\n",
        "\n",
        "За неделю мы получили следующие данные по времени загрузки:\n",
        "\n",
        "X = [5.9, 2.45, 3.32, 6.88, 3.09, 8.13, 3.76]\n",
        "\n",
        "ξ - это конкретная реализация случайной величины."
      ],
      "metadata": {
        "id": "2Ca8EExXW8rj"
      }
    },
    {
      "cell_type": "markdown",
      "source": [
        "## z-test (Теста Фишера)\n",
        "z-test можно использовать, когда **σ известна**.\n",
        "\n",
        "Для **распределения Бернулли** использовать z-test возможно, потому что в этом случае из нулевой гипотезы (H0: $μ = p$) выводится и дисперсия σ ($σ^2_B = p(1-p)$).\n",
        "\n",
        "Мы делаем следующие допущения:\n",
        "1. Если Нулевая статистика верна, то статистика будет распределена по нормальному закону.\n",
        "2. Используя ЦПТ мы делали допущение, что распределение будет нормальным, но начиная с достаточно больших значений n (количества наблюдений).\n",
        "\n",
        "$z = \\frac{\\bar{x}-\\mu_0}{\\sqrt{\\frac{σ^2}{n}}} ∼ Norm(0, 1)$\n",
        "\n",
        "В нашей задаче для оценки среднего, сложность возникает с тем, чтобы определить σ и n.\n",
        "\n",
        "$z = \\frac{4.7-7}{\\sqrt{\\frac{σ^2}{n}}}$\n",
        "\n",
        "Для критерия проверки среднего мы должны ответить на два вопроса:\n",
        "1. $σ - ?$ Как определить сигму\n",
        "2. $n - ?$ Как понять сколько n будет достаточно"
      ],
      "metadata": {
        "id": "mCD8IAXmcTlS"
      }
    },
    {
      "cell_type": "markdown",
      "source": [
        "Самый главный тезис курса:\n",
        "\n",
        "1. Мы придумали как должна выглядеть статистика\n",
        "2. Определяем, как (из предположения, что гипотеза верна) будет выглядеть распределение."
      ],
      "metadata": {
        "id": "LZ2htxdxeSY3"
      }
    },
    {
      "cell_type": "markdown",
      "source": [
        "## T'\n",
        "\n",
        "Для начала предположим, что **ξ уже нормально распределена**, тогда:\n",
        "\n",
        "1. Если просуммировать n нормальных распределений $𝒩(μ, σ^2)$, то на выходе получим тоже нормальное распределение, причем с известным мат.ожиданием и дисперсией 𝒩(n*μ, n*σ^2)$ ⇒\n",
        "\n",
        "2. Для произвольно распределенной величины z-статистика будет нормально распределена начиная с некотогоро n, а для нормально распределенной величины, z-статистика сразу нормально распределена. ⇒\n",
        "\n",
        "3. Таким образом для нас становится **не важно значение n**."
      ],
      "metadata": {
        "id": "42WMD4Yei75S"
      }
    },
    {
      "cell_type": "markdown",
      "source": [
        "Несмещенная состоятельная оценка дисперсии\n",
        "\n",
        "$\\hat{σ}^2=S^2 = \\frac{1}{n-1}\\sum_{n=1}^{n}(x_i - \\bar{x})^2$\n",
        "\n",
        "n-1 - количество степеней свободы\n",
        "\n",
        "Подставим эту несмещенную состоятельную оценку дисперсии в формулу вместо σ.\n",
        "\n",
        "Мы получим уже новый критерий (t-критерий) в котором вместо истинного σ используется некоторая его оценка.\n",
        "\n",
        "$T' = \\frac{\\bar{x}-\\mu_0}{\\sqrt{\\frac{\\frac{1}{n-1}\\sum_{n=1}^{n}(x_i - \\bar{x})^2}{n}}} ∼ Norm(0, 1)$\n",
        "\n",
        "\n"
      ],
      "metadata": {
        "id": "1O1QInrlmQC-"
      }
    },
    {
      "cell_type": "code",
      "source": [
        "import numpy\n",
        "from scipy.stats import norm\n",
        "from matplotlib import pyplot\n",
        "from seaborn import displot"
      ],
      "metadata": {
        "id": "J1V6XI-vqOZU"
      },
      "execution_count": null,
      "outputs": []
    },
    {
      "cell_type": "code",
      "execution_count": null,
      "metadata": {
        "colab": {
          "base_uri": "https://localhost:8080/"
        },
        "id": "81V2t6ujV9em",
        "outputId": "409a5a0e-bee7-4b5e-89eb-df3c6b0a9856"
      },
      "outputs": [
        {
          "output_type": "stream",
          "name": "stdout",
          "text": [
            "Оценка sigma^2: 4.723866666666668\n"
          ]
        }
      ],
      "source": [
        "X = numpy.array([5.9, 2.45, 3.32, 6.88, 3.09, 8.13, 3.76])\n",
        "# ddof = 1 - delta degrees of freedom - это значит, что делим не на n, а на n-1\n",
        "\n",
        "print(f\"Оценка sigma^2: {numpy.var(X, ddof=1)}\")"
      ]
    },
    {
      "cell_type": "code",
      "source": [
        "def sample_statistics(number_of_experiments, statistic_function, sample_size, sample_distr):\n",
        "  '''\n",
        "  Функция для генерации выборки некой статистики statistic_function, nостроенной до выборке из распреде Возвращает выборку размера number_of_experiments для statistic_function.\n",
        "\n",
        "  Праметры:\n",
        "\n",
        "  number_of_experiments: число экспериментов, в каждом из которых ны посчитаем statistic_function statistic_function: статистика, которая принимает на вход выборку из распределения sample_distr\n",
        "\n",
        "  sample_size: размер выборки, которая подается на вход statistic_function\n",
        "\n",
        "  sample_distr: pаспределение изначальной выборки, по которой считается статистика\n",
        "  '''\n",
        "  statistic_sample = []\n",
        "  for _ in range(number_of_experiments):\n",
        "    # генерируем пиmber_of_experiments раз выборку\n",
        "    sample = sample_distr.rvs(sample_size)\n",
        "\n",
        "    # считаем статистику\n",
        "    statistic = statistic_function(sample)\n",
        "\n",
        "    # сохраняем\n",
        "    statistic_sample.append(statistic)\n",
        "\n",
        "  return statistic_sample"
      ],
      "metadata": {
        "id": "x5XbuogvpiTL"
      },
      "execution_count": null,
      "outputs": []
    },
    {
      "cell_type": "code",
      "source": [
        "numpy.random.seed(3)"
      ],
      "metadata": {
        "id": "Jf-VAt9XpiQC"
      },
      "execution_count": null,
      "outputs": []
    },
    {
      "cell_type": "code",
      "source": [
        "sample_size=7\n",
        "M = 100000\n",
        "sample_distr = norm(loc=5, scale=1)"
      ],
      "metadata": {
        "id": "aWu2YqappiN5"
      },
      "execution_count": null,
      "outputs": []
    },
    {
      "cell_type": "code",
      "source": [
        "T_X = lambda sample: numpy.sqrt(sample_size) * (numpy.mean(sample) - sample_distr.mean()) / numpy.sqrt(numpy.var(sample, ddof=1)) # or numpy.std()\n",
        "Z_X = lambda sample: numpy.sqrt(sample_size) * (numpy.mean(sample) - sample_distr.mean()) / sample_distr.std()"
      ],
      "metadata": {
        "id": "c4zSlNOcpiKb"
      },
      "execution_count": null,
      "outputs": []
    },
    {
      "cell_type": "code",
      "source": [
        "samples = {\n",
        "\"T(X)\": sample_statistics(number_of_experiments=M, statistic_function=T_X, sample_size=sample_size, sample_distr=sample_distr),\n",
        "\"Z(X)\": sample_statistics(number_of_experiments=M, statistic_function=Z_X, sample_size=sample_size, sample_distr=sample_distr)\n",
        "}"
      ],
      "metadata": {
        "id": "dgWCo4ImpiHf"
      },
      "execution_count": null,
      "outputs": []
    },
    {
      "cell_type": "code",
      "source": [
        "pyplot.figure(figsize=(10, 5))\n",
        "# pyplot.subplot(1, 2, 1)\n",
        "\n",
        "for i, name in enumerate([\"T(X)\", \"Z(X)\"]):\n",
        "  pyplot.subplot(1, 2, i+1)\n",
        "  current_sample = samples[name]\n",
        "  l_bound, r_bound = [-4, 4]\n",
        "\n",
        "  x = numpy.linspace(l_bound, r_bound, 1000)\n",
        "  pyplot.title(f\"Pаспределение статистики {name}, sample size={sample_size}\", fontsize=12)\n",
        "  # displot(current_sample, label='Эмпирическое распределение')\n",
        "  pyplot.plot(x, norm(0, 1).pdf(x), label='$\\mathcal{N}(0, 1)$')\n",
        "  pyplot.xlabel(f'{name}', fontsize=12)\n",
        "  pyplot.xlim((l_bound, r_bound))\n",
        "  pyplot.ylabel('Плотность', fontsize=12)\n",
        "  pyplot.grid(linewidth=0.2)\n",
        "  pyplot.show();"
      ],
      "metadata": {
        "colab": {
          "base_uri": "https://localhost:8080/",
          "height": 950
        },
        "id": "qsx0vVGJpiEm",
        "outputId": "f9303cda-9dc0-4e17-9c2d-b4e9ea7f027d"
      },
      "execution_count": null,
      "outputs": [
        {
          "output_type": "display_data",
          "data": {
            "text/plain": [
              "<Figure size 1000x500 with 1 Axes>"
            ],
            "image/png": "[encoded data removed]"
          },
          "metadata": {}
        },
        {
          "output_type": "display_data",
          "data": {
            "text/plain": [
              "<Figure size 640x480 with 1 Axes>"
            ],
            "image/png": "[encoded data removed]"
          },
          "metadata": {}
        }
      ]
    },
    {
      "cell_type": "markdown",
      "source": [
        "#4.2. [Т-тест](https://www.youtube.com/watch?v=UStRqCtGUy4&t=3s)"
      ],
      "metadata": {
        "id": "QytRILSQvidj"
      }
    },
    {
      "cell_type": "markdown",
      "source": [
        "$T ∼ Student(n-1)$"
      ],
      "metadata": {
        "id": "MnDSobnWoCpL"
      }
    },
    {
      "cell_type": "code",
      "source": [
        "from scipy.stats import t"
      ],
      "metadata": {
        "id": "nXGEo20tU3kd"
      },
      "execution_count": null,
      "outputs": []
    },
    {
      "cell_type": "code",
      "source": [
        "X = numpy.array([5.9, 2.45, 3.32, 6.88, 3.09, 8.13, 3.76])"
      ],
      "metadata": {
        "id": "XLiXGO5jU3hX"
      },
      "execution_count": null,
      "outputs": []
    },
    {
      "cell_type": "code",
      "source": [
        "t_stat = (numpy.mean(X) - 7) / (numpy.var(X, ddof=1) / X.size)**0.5"
      ],
      "metadata": {
        "id": "2q1Z4yxTU3d_"
      },
      "execution_count": null,
      "outputs": []
    },
    {
      "cell_type": "code",
      "source": [
        "t_stat"
      ],
      "metadata": {
        "colab": {
          "base_uri": "https://localhost:8080/"
        },
        "id": "IyQg7ibWU3a1",
        "outputId": "b35bb72f-0675-4996-d94d-b4be3537b105"
      },
      "execution_count": null,
      "outputs": [
        {
          "output_type": "execute_result",
          "data": {
            "text/plain": [
              "-2.6902489974105612"
            ]
          },
          "metadata": {},
          "execution_count": 26
        }
      ]
    },
    {
      "cell_type": "code",
      "source": [
        "p_value = t(X.size - 1).cdf(t_stat)"
      ],
      "metadata": {
        "id": "bsCQs1utU3Wk"
      },
      "execution_count": null,
      "outputs": []
    },
    {
      "cell_type": "code",
      "source": [
        "p_value"
      ],
      "metadata": {
        "colab": {
          "base_uri": "https://localhost:8080/"
        },
        "id": "CLuTTsD_U3Tj",
        "outputId": "0b80d16a-d467-4d0d-a30b-541af5cec417"
      },
      "execution_count": null,
      "outputs": [
        {
          "output_type": "execute_result",
          "data": {
            "text/plain": [
              "0.01802035750889251"
            ]
          },
          "metadata": {},
          "execution_count": 31
        }
      ]
    },
    {
      "cell_type": "markdown",
      "source": [
        "Здесь использован левосторонний критерий (𝔼(ξ) < 7), потому что если среднее время окажется больше 7, то это изменение будет для нас нежелательным.\n",
        "\n",
        "Мы можем использовать односторонний критерий, который реализован в пакете scipy. Получим тот же самый результат."
      ],
      "metadata": {
        "id": "i_u-cms2YdV-"
      }
    },
    {
      "cell_type": "code",
      "source": [
        "from scipy.stats import ttest_1samp"
      ],
      "metadata": {
        "id": "1SzuwA98U3Qb"
      },
      "execution_count": null,
      "outputs": []
    },
    {
      "cell_type": "code",
      "source": [
        "ttest_1samp(X, popmean=7, alternative='less')"
      ],
      "metadata": {
        "colab": {
          "base_uri": "https://localhost:8080/"
        },
        "id": "P7sPFZPxY26u",
        "outputId": "f1a0b3c9-1ad7-45c3-f159-e229efd16821"
      },
      "execution_count": null,
      "outputs": [
        {
          "output_type": "execute_result",
          "data": {
            "text/plain": [
              "TtestResult(statistic=-2.690248997410561, pvalue=0.01802035750889251, df=6)"
            ]
          },
          "metadata": {},
          "execution_count": 33
        }
      ]
    },
    {
      "cell_type": "markdown",
      "source": [
        "alpha = 0.5\n",
        "\n",
        "Т.к. мы получили p_value <= alpha (0.018 <= 0.5), что позволяет отвергнуть H0.\n",
        "\n",
        "Мы видим, что на уровне значимости 2,5% критерий отвергся, а значит переход на новую СУБД удовлетворяет условиям загрузки быстрее 7 часов."
      ],
      "metadata": {
        "id": "O0mJdgiiZm-y"
      }
    },
    {
      "cell_type": "markdown",
      "source": [
        "#4.3. [Доверительный интервал](https://www.youtube.com/watch?v=iUrG8dNcjIY)"
      ],
      "metadata": {
        "id": "942Pdlhiaq9j"
      }
    },
    {
      "cell_type": "markdown",
      "source": [
        "ДИ = множество m, при которых тест не отвергает гипотезу H0: 𝔼(ξ) = m.\n",
        "\n",
        "ДИ - это всегда производная негоко теста. Рассмотрим двусторонний тест с alpha = 5%\n",
        "\n",
        "Возьмем 2,5% перцентиль для t-testa (Распределения Стьюдента)\n",
        "\n",
        "$t_{0.025}(df=n-1) < \\frac{\\bar{x}-m}{\\sqrt{\\frac{S^2}{n}}} < t_{0.975}(df=n-1)$\n",
        "\n",
        "Выполнив преобразования получаем следующее выражение для Доверительного Интервала:\n",
        "\n",
        "$\\bar{x} -t_{0.025}(df=n-1)*\\sqrt{\\frac{S^2}{n}} > m>\\bar{x} -t_{0.975}(df=n-1)*\\sqrt{\\frac{S^2}{n}}$\n",
        "\n",
        "Зная, что Распределение Стьюдента симметрично, можем заменить с учетом знака:\n",
        "\n",
        "$\\bar{x} +t_{0.975}(df=n-1)*\\sqrt{\\frac{S^2}{n}} > m>\\bar{x} -t_{0.975}(df=n-1)*\\sqrt{\\frac{S^2}{n}}$\n",
        "\n",
        "$\\sqrt{\\frac{S^2}{n}}$ - SEM (Standard Error of the Mean / стандартная ошибка среднего)\n",
        "\n",
        "---\n",
        "$m ∈ \\bar{x} ± t_{0.975}(df=n-1)*SEM$"
      ],
      "metadata": {
        "id": "600IYTQya2wO"
      }
    },
    {
      "cell_type": "code",
      "source": [
        "left_bound, right_bound = t.interval(confidence=0.95, loc=numpy.mean(X), scale=(numpy.var(X, ddof=1) / X.size)**0.5, df=X.size-1)\n",
        "print(f\"CI = [{left_bound:.2f}, {right_bound:.2f}]\")"
      ],
      "metadata": {
        "colab": {
          "base_uri": "https://localhost:8080/"
        },
        "id": "t_WgqzlxZinV",
        "outputId": "ad977f21-d627-46cf-f2bd-e10b9785bf0d"
      },
      "execution_count": null,
      "outputs": [
        {
          "output_type": "stream",
          "name": "stdout",
          "text": [
            "CI = [2.78, 6.80]\n"
          ]
        }
      ]
    },
    {
      "cell_type": "markdown",
      "source": [
        "Параметры инициализации:\n",
        "- `loc` - это μ\n",
        "- `scale` - это σ, или стандартное отклонение. Не дисперсия!\n",
        "\n",
        "Получаем, что время загрузки находится в интервале от 2,8 до 6,8 часов."
      ],
      "metadata": {
        "id": "jTcJPDruk-Bl"
      }
    },
    {
      "cell_type": "code",
      "source": [
        "left_bound, right_bound = t.interval(alpha=0.95, loc=numpy.mean(X), scale=numpy.std(X, ddof=1) / X.size**0.5, df=X.size-1)"
      ],
      "metadata": {
        "id": "H4rv6XaYZikZ"
      },
      "execution_count": null,
      "outputs": []
    },
    {
      "cell_type": "markdown",
      "source": [
        "#4.4. [А/В тесты. Двувыборочный Т-тест](https://www.youtube.com/watch?v=PA45NS9v_hA&t=1s)"
      ],
      "metadata": {
        "id": "RNKQLBbdnMC-"
      }
    },
    {
      "cell_type": "markdown",
      "source": [
        "$B_1, B_2, ... \\ \\bar{B}$\n",
        "\n",
        "$H0: 𝔼(B) = ARPU_{without_discounts}$\n",
        "\n",
        "$H0: 𝔼(B) > _{without_discounts}$\n",
        "\n",
        "Проблема в том, что мы не знаем с чем сравнивать.\n",
        "\n",
        "Введем еще одну группу\n",
        "\n",
        "$A_1, A_2, ... \\ \\bar{A}$\n",
        "\n",
        "Помимо воздействия (treatment) группы не должны ничем различаться, это свойство называется СБАЛАНСИРОВАННОСТЬ выборок.\n",
        "\n",
        "Пропорции разных пользователей в выборки должны быть такие же как в генеральной совокупности - РЕПРЕЗЕНТАТИВНОСТЬ.\n",
        "\n",
        "A и B\n",
        "- сбалансированы\n",
        "- репрезентативны\n",
        "\n",
        "Таким образом, гипотезы преобразуются к виду:\n",
        "\n",
        "$H0: 𝔼(B) = 𝔼(A)$\n",
        "\n",
        "$H0: 𝔼(B) > 𝔼(A)$\n",
        "\n",
        "Предположим, что группы A и B достаточно большие, так что мы можем считать, что среднее этих выборок распределено нормально."
      ],
      "metadata": {
        "id": "gTLq3EEZobM9"
      }
    },
    {
      "cell_type": "code",
      "source": [
        "from scipy.stats import expon\n",
        "from scipy.stats import norm\n",
        "from scipy.stats import ttest_ind\n",
        "from statsmodels.stats.weightstats import CompareMeans, DescrStatsW"
      ],
      "metadata": {
        "id": "wlJ7imutvsAn"
      },
      "execution_count": null,
      "outputs": []
    },
    {
      "cell_type": "code",
      "source": [
        "numpy.random.seed(42)\n",
        "X = expon(scale=1100).rvs(1000)\n",
        "Y = norm(loc=980, scale=30).rvs(1000)\n",
        "\n",
        "ttest_ind(X, Y, equal_var=False, alternative='greater')\n",
        "# если дисперсии неизвестны, то лучше всегда предполагать, что они не равны\n",
        "# проверяем односторонюю гипотезу - с точки зрения бизнес задачи это чаще имеет смысл"
      ],
      "metadata": {
        "colab": {
          "base_uri": "https://localhost:8080/"
        },
        "id": "twWUE-6QnLsn",
        "outputId": "18c9809b-4384-458f-f4bc-4535ef1e6d52"
      },
      "execution_count": null,
      "outputs": [
        {
          "output_type": "execute_result",
          "data": {
            "text/plain": [
              "TtestResult(statistic=2.5645688722251325, pvalue=0.005237676356845092, df=1000.5367318148768)"
            ]
          },
          "metadata": {},
          "execution_count": 49
        }
      ]
    },
    {
      "cell_type": "markdown",
      "source": [
        "Доверительный интервал"
      ],
      "metadata": {
        "id": "DIDuKtfKgfBy"
      }
    },
    {
      "cell_type": "code",
      "source": [
        "сm = CompareMeans(DescrStatsW(X), DescrStatsW(Y))\n",
        "сm.tconfint_diff(usevar='unequal')"
      ],
      "metadata": {
        "colab": {
          "base_uri": "https://localhost:8080/"
        },
        "id": "_aJdYrYZnLpt",
        "outputId": "ffa3947d-af92-4c67-d503-16a72283bd77"
      },
      "execution_count": null,
      "outputs": [
        {
          "output_type": "execute_result",
          "data": {
            "text/plain": [
              "(20.380593037118146, 153.19874340946558)"
            ]
          },
          "metadata": {},
          "execution_count": 50
        }
      ]
    },
    {
      "cell_type": "markdown",
      "source": [
        "#4.5. [MDE для Т-теста](https://www.youtube.com/watch?v=mkHDCK0dpzA&t=1s)\n",
        "\n",
        "MDE - рассчитывается до начала эксперимента\n",
        "\n",
        "Пусть мы хотим проверить гипотезу о том, что среднее некоей выборки отличается от константы $H0: 𝔼(X) = m_0$. Причем проверка будет выполняться со стат.значимостью $α = FPR = 5\\%$ и мощностью $1 - β = power = 80\\%$.\n",
        "\n",
        "Какой должен быть истинний эффект, чтобы мы могли его задетектировать?\n",
        "\n",
        "\n",
        "---\n",
        "$MDE = SEM*(z_{1-α} + z_{1-β}) = \\frac{\\hat{σ}}{\\sqrt{N}}*(z_{1-α} + z_{1-β})$"
      ],
      "metadata": {
        "id": "07AAkcdCgpvB"
      }
    },
    {
      "cell_type": "markdown",
      "source": [
        "###1. Бизнес-задача / бизнес гипотеза\n",
        "Гипотеза: если мы добьемся снижения времени загрузки до 7 часов, то сэкономим компании много денег.\n",
        "### 2. Формулируем нулевую и альтернативную гипотезы\n",
        "H0: 𝔼(ξ) = 7 - мат.ожидание времени загрузки равно 7 ч.\n",
        "\n",
        "H1: 𝔼(ξ) < 7 - мат.ожидание времени загрузки меньше 7 ч. Это желаемый исход\n",
        "\n",
        "### 3. Выбираем статистику\n",
        "Статистика - некоторое число, которое будет говорить нам о том, насклько похожа H0 на правду.\n",
        "\n",
        "Статистика 𝔼(ξ) ⇒ нас будет интреесовать критерий для сравнения средних.\n",
        "##4. Понять как статистика Q распределена, если верна нулевая гипотеза\n",
        "alpha - как часто ошибаемся,\n",
        "\n",
        "p-value - площадь всех столобцов графика, попадание в который выглядит слишком экстремально\n",
        "##5. MDE\n",
        "Каким должен быть минимальный эффект, чтобы мы могли задетектировать изменение.\n",
        "Зависит от\n",
        "- размер выборки $n$\n",
        "- искомая мощность $β$ (FP)\n",
        "- уровень\n",
        "\n",
        "\n",
        "##6. Построить Доверительный интервал\n",
        "$\\mu ⊂ [0.55 ... 0.87]$"
      ],
      "metadata": {
        "id": "V2VXSMsuZA65"
      }
    },
    {
      "cell_type": "code",
      "source": [],
      "metadata": {
        "id": "evM1Jr2_eR6k"
      },
      "execution_count": null,
      "outputs": []
    },
    {
      "cell_type": "code",
      "source": [],
      "metadata": {
        "id": "6cUj6coGc7d-"
      },
      "execution_count": null,
      "outputs": []
    }
  ]
}
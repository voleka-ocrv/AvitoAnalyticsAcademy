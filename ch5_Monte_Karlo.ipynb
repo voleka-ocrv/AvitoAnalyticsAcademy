{
  "nbformat": 4,
  "nbformat_minor": 0,
  "metadata": {
    "colab": {
      "provenance": [],
      "toc_visible": true,
      "authorship_tag": "ABX9TyNOIuP+PMotOoeAPHM855nb",
      "include_colab_link": true
    },
    "kernelspec": {
      "name": "python3",
      "display_name": "Python 3"
    },
    "language_info": {
      "name": "python"
    }
  },
  "cells": [
    {
      "cell_type": "markdown",
      "metadata": {
        "id": "view-in-github",
        "colab_type": "text"
      },
      "source": [
        "<a href=\"https://colab.research.google.com/github/voleka-ocrv/AvitoAnalyticsAcademy/blob/main/ch5_Monte_Karlo.ipynb\" target=\"_parent\"><img src=\"https://colab.research.google.com/assets/colab-badge.svg\" alt=\"Open In Colab\"/></a>"
      ]
    },
    {
      "cell_type": "markdown",
      "source": [
        "#5.1. [Метод Монте-Карло](https://www.youtube.com/watch?v=NoBJbrweIoc)"
      ],
      "metadata": {
        "id": "5N2Xc_dwAYtz"
      }
    },
    {
      "cell_type": "code",
      "source": [
        "import numpy\n",
        "from matplotlib import pyplot\n",
        "from seaborn import displot\n",
        "from scipy.stats import norm\n",
        "from scipy.stats import expon\n",
        "from scipy.stats import ttest_ind\n",
        "from statsmodels.stats.proportion import proportion_confint\n",
        "from statsmodels.stats.weightstats import CompareMeans, DescrStatsW"
      ],
      "metadata": {
        "id": "GTvUUk_MCNU5"
      },
      "execution_count": null,
      "outputs": []
    },
    {
      "cell_type": "code",
      "source": [
        "numpy.random.seed(42)\n",
        "\n",
        "bad_cnt = 0\n",
        "N= 10000\n",
        "alpha = 0.05\n",
        "\n",
        "sample_dist = norm(loc=2, scale=3)\n",
        "mu0 = sample_dist.expect()\n",
        "\n",
        "for i in range(N):\n",
        "\n",
        "  # Генерирую выборку теста и контроля\n",
        "  test    = sample_dist.rvs(10)\n",
        "  control = sample_dist.rvs(10)\n",
        "\n",
        "  # Запускаю критерий и считаю p-value\n",
        "  pvalue = ttest_ind(test, control, alternative='two-sided').pvalue\n",
        "\n",
        "  # Проверяю, что pvalue < alpha\n",
        "  bad_cnt += (pvalue < alpha)\n",
        "\n",
        "print(f\"FPR: {round(bad_cnt / N, 4)}\")"
      ],
      "metadata": {
        "colab": {
          "base_uri": "https://localhost:8080/"
        },
        "id": "mbivD_gQCNSX",
        "outputId": "fdaccbcc-fe8b-4674-e147-13ce85e0b7b5"
      },
      "execution_count": null,
      "outputs": [
        {
          "output_type": "stream",
          "name": "stdout",
          "text": [
            "FPR: 0.0539\n"
          ]
        }
      ]
    },
    {
      "cell_type": "markdown",
      "source": [
        "Получилось не 5%. Правда ли, что критерий некорректен? Ну, конечно нет. Мы просто не учли шум конверсии: мы вряд ли сможем получить на конечном числе экспериментов точное равенство `FPR=alpha`.\n",
        "\n",
        "Поэтому нужно улучшить 4 шаг:\n",
        "\n",
        "Посчитать полученный FPR и построить доверительный интервал для него. Если α лижит в нем, значит все хорошо, а иначе разбираемся, что пошло не так.\n",
        "- Доверительный интервал можно построить разными способами: например, используя идеи построени доверительных интервалов из второй лекции.\n",
        "- Но мжно сделать проще: в Python есть функция, которая строит доверительный интервал Уилсона: он не такой точный, как мы водили ранее, зато он более быстрый и работает \"из коробки\". Его не надо реализовывать самому."
      ],
      "metadata": {
        "id": "RCUFQgbe4GKi"
      }
    },
    {
      "cell_type": "code",
      "source": [
        "proportion_confint(count=bad_cnt, nobs=N, alpha=0.05, method='wilson')"
      ],
      "metadata": {
        "colab": {
          "base_uri": "https://localhost:8080/"
        },
        "id": "mAJWDdzVCNPa",
        "outputId": "930d0ab3-b123-4866-f251-f9c7548f7dc9"
      },
      "execution_count": null,
      "outputs": [
        {
          "output_type": "execute_result",
          "data": {
            "text/plain": [
              "(0.04964284138359744, 0.05849976196272022)"
            ]
          },
          "metadata": {},
          "execution_count": 8
        }
      ]
    },
    {
      "cell_type": "markdown",
      "source": [
        "Мы видим, что 5% попали в наш доверительный интервал, а значит мы можем считать, что  критерий валиден для нашей задачи. А что, если бы распределение было сложнее?"
      ],
      "metadata": {
        "id": "4fFM7s258NdK"
      }
    },
    {
      "cell_type": "markdown",
      "source": [
        "Покажем, что t-tect будет ошибаться на выборках, взятых из не нормального (экспоненциального) распределения, даже при условии, что выборки в реальности взяты из совершенно одинакового распределения."
      ],
      "metadata": {
        "id": "n0HNDumH7OO2"
      }
    },
    {
      "cell_type": "code",
      "source": [
        "numpy.random.seed(42)\n",
        "\n",
        "bad_cnt = 0\n",
        "N= 10000\n",
        "alpha = 0.05\n",
        "\n",
        "sample_dist = expon(scale=10)\n",
        "mu0 = sample_dist.expect()\n",
        "\n",
        "for i in range(N):\n",
        "\n",
        "  # Генерирую выборку теста и контроля\n",
        "  test    = sample_dist.rvs(10)\n",
        "  control = sample_dist.rvs(10)\n",
        "\n",
        "  # Запускаю критерий и считаю p-value\n",
        "  pvalue = ttest_ind(test, control, alternative='two-sided').pvalue\n",
        "\n",
        "  # Проверяю, что pvalue < alpha\n",
        "  bad_cnt += (pvalue < alpha)\n",
        "\n",
        "print(f\"FPR: {round(bad_cnt / N, 4)}\")"
      ],
      "metadata": {
        "colab": {
          "base_uri": "https://localhost:8080/"
        },
        "id": "3QFllu1hCNLI",
        "outputId": "143413de-201a-4f94-dfe5-eb4959417ee6"
      },
      "execution_count": null,
      "outputs": [
        {
          "output_type": "stream",
          "name": "stdout",
          "text": [
            "FPR: 0.0433\n"
          ]
        }
      ]
    },
    {
      "cell_type": "code",
      "execution_count": null,
      "metadata": {
        "colab": {
          "base_uri": "https://localhost:8080/"
        },
        "id": "9woLngpPATXb",
        "outputId": "a0acc4a1-cedf-4102-f0a5-6ad9cbbe6aad"
      },
      "outputs": [
        {
          "output_type": "execute_result",
          "data": {
            "text/plain": [
              "(0.03948313833238368, 0.04746760577939231)"
            ]
          },
          "metadata": {},
          "execution_count": 15
        }
      ],
      "source": [
        "proportion_confint(count=bad_cnt, nobs=N, alpha=0.05, method='wilson')"
      ]
    },
    {
      "cell_type": "markdown",
      "source": [
        "Получаем, что 5% не находятся в рамках доверительного интервала.\n",
        "\n",
        "Можем с уверенностью сказать, что если мы для выборки размера 10 экспоненциального распределения применяем t-test, то тест не является корректным.\n",
        "\n",
        "Тест допускает ошибку РЕЖЕ, чем задавали. Но это все же не очень хорошо, мы хотим использовать `alpha` как контролируемый критерий. Это значит, что мощность у алгоритма ниже."
      ],
      "metadata": {
        "id": "mtGDGDhJ77lo"
      }
    },
    {
      "cell_type": "markdown",
      "source": [
        "Рассмотрим пример, когда мат.ожидания в тесте и в контроле равны, но выборки из разных распределений. То есть $H0$ верна, но распределения разные."
      ],
      "metadata": {
        "id": "cIe7DC0v9pQT"
      }
    },
    {
      "cell_type": "code",
      "source": [
        "test_dist = expon(scale=10)\n",
        "control_dist = expon(loc=5, scale=5)\n",
        "\n",
        "x= numpy.linspace(0, 100, 1000)\n",
        "\n",
        "pyplot.figure(figsize=(10, 5))\n",
        "pyplot.title('Пример распределений', fontsize=12)\n",
        "pyplot.plot(x, test_dist.pdf(x), label='test', color='orange')\n",
        "pyplot.plot(x, control_dist.pdf(x), label='control', color='blue')\n",
        "pyplot.xlabel('Выручка')\n",
        "pyplot.ylabel('Плотность')\n",
        "pyplot.legend (fontsize=12)\n",
        "pyplot.grid(linewidth=0.2)\n",
        "pyplot.show()"
      ],
      "metadata": {
        "colab": {
          "base_uri": "https://localhost:8080/",
          "height": 487
        },
        "id": "-wsA_qruKnmv",
        "outputId": "89c742f5-d592-4a23-c7f4-3575fe2f87c1"
      },
      "execution_count": null,
      "outputs": [
        {
          "output_type": "display_data",
          "data": {
            "text/plain": [
              "<Figure size 1000x500 with 1 Axes>"
            ],
            "image/png": "[encoded data removed]"
          },
          "metadata": {}
        }
      ]
    },
    {
      "cell_type": "markdown",
      "source": [
        "Например, раньше в среднем выручка пользователя была примерно 10 руб и она была не меньше 5 руб (у синей плотности старт выручки в 5 руб), а после введения эффекта часть пользователей стала платить меньше, но средний чек остался таким же 10 руб."
      ],
      "metadata": {
        "id": "T1VMBYq5_Abs"
      }
    },
    {
      "cell_type": "code",
      "source": [
        "def check_criterion(test_dist, control_dist, sample_size, N_exps=10000, to_print=True):\n",
        "  '''\n",
        "  Функция для проверки t-test критерия для АВ-теста\n",
        "  Возвращает доверительный интервал для FPR, если флаг to_print = False. Иначе печатает результат.\n",
        "\n",
        "  Параметры:\n",
        "    - test dist: Pacnределение тестовой выборки в эксперименте\n",
        "    - control dist: Pаспределение контрольной выборки в эксперименте\n",
        "    - sample size: размер выборки теста и контроля\n",
        "    - N_expѕ: число экспериментов, по которым потом считается FPR\n",
        "    - to_print: печатать результат или нет. Если нет, то функция возвращает дов, интервал для FPR.\n",
        "  '''\n",
        "  numpy.random.seed(35)\n",
        "  bad_cnt=0\n",
        "  alpha=0.05\n",
        "\n",
        "  for i in range(N_exps):\n",
        "    # Генерирую выборку\n",
        "    test = test_dist.rvs(sample_size)\n",
        "    control = control_dist.rvs(sample_size)\n",
        "\n",
        "    # Запускае критерий и считаю p-value\n",
        "    pvalue = ttest_ind(test, control, equal_var=False, alternative='two-sided').pvalue\n",
        "\n",
        "    # Проверие, что pvalue < alpha\n",
        "    bad_cnt += (pvalue < alpha)\n",
        "\n",
        "  if to_print:\n",
        "    print(f\"FPR: {round(bad_cnt/N_exps, 4)}\")\n",
        "    print(f\"CI={proportion_confint(count=bad_cnt, nobs=N_exps, alpha=0.05, method='wilson')}\")\n",
        "  else:\n",
        "    return proportion_confint(count=bad_cnt, nobs=N_exps, alpha=0.05, method='wilson')"
      ],
      "metadata": {
        "id": "XDOBOhD6-CP7"
      },
      "execution_count": null,
      "outputs": []
    },
    {
      "cell_type": "code",
      "source": [
        "check_criterion(test_dist=test_dist, control_dist=control_dist, sample_size=10)"
      ],
      "metadata": {
        "colab": {
          "base_uri": "https://localhost:8080/"
        },
        "id": "ZAgV6zgzBiT6",
        "outputId": "34efff8b-9c1c-4f3f-96d5-07fcb7e73403"
      },
      "execution_count": null,
      "outputs": [
        {
          "output_type": "stream",
          "name": "stdout",
          "text": [
            "FPR: 0.0689\n",
            "CI=(0.0640994596515586, 0.07403162374363877)\n"
          ]
        }
      ]
    },
    {
      "cell_type": "markdown",
      "source": [
        "Таким образом в этом примере мы получили где t-test не работает\n",
        "- маленькая выборка\n",
        "- не нормальное распределение обеих выборок\n",
        "\n",
        "Что ж, мы видим, что t-test не сработал. Истинное α не лежит в доверительном интервале. Но с какого размера выборки t-testна чинает работать правильно?"
      ],
      "metadata": {
        "id": "fhJp9C-YC37F"
      }
    },
    {
      "cell_type": "markdown",
      "source": [
        "Как проверить минимальный размер выборки при котором t-test работает?\n",
        "Давайте просиммулируем эксперимент с разным размером выборки и посмотрим, с какого размера выборки у нас α% лежит в доверительном интервале"
      ],
      "metadata": {
        "id": "FHVGsh9tA5hh"
      }
    },
    {
      "cell_type": "code",
      "source": [
        "scale = numpy.arange(20, 110, 20)\n",
        "\n",
        "for N in scale:\n",
        "  left, right = check_criterion(test_dist=test_dist, control_dist=control_dist, sample_size=10, to_print=False)\n",
        "  if left < alpha < right:\n",
        "    print(f\"Min dample size: {N}\")\n",
        "    break"
      ],
      "metadata": {
        "id": "LyLLfG9uD0Om"
      },
      "execution_count": null,
      "outputs": []
    },
    {
      "cell_type": "code",
      "source": [
        "check_criterion(test_dist=test_dist, control_dist=control_dist, sample_size=60)"
      ],
      "metadata": {
        "colab": {
          "base_uri": "https://localhost:8080/"
        },
        "id": "YLM9VmbnFIDG",
        "outputId": "5eba9fbb-d388-4363-b22f-7e7561442349"
      },
      "execution_count": null,
      "outputs": [
        {
          "output_type": "stream",
          "name": "stdout",
          "text": [
            "FPR: 0.0527\n",
            "CI=(0.0484900114917122, 0.05725351345069507)\n"
          ]
        }
      ]
    },
    {
      "cell_type": "markdown",
      "source": [
        "#5.2. [Метод Монте Карло (на исторических данных)](https://www.youtube.com/watch?v=gghqd-LrQpM&t=1s)\n",
        "\n",
        "Или путь 1000 A/A-тестов\n",
        "\n",
        "Разбить исторические данные на месяцы и категории (или регионы), чтобы получить много выборок и провести на них A/A-тест."
      ],
      "metadata": {
        "id": "CwYbfXOcen7t"
      }
    },
    {
      "cell_type": "markdown",
      "source": [
        "#5.3. [Метод Монте-Карло (определение мощности на исторических данных)](https://www.youtube.com/watch?v=gwgVumVNkCk)"
      ],
      "metadata": {
        "id": "Vz5xRwRdfI9D"
      }
    },
    {
      "cell_type": "markdown",
      "source": [
        "Пусть у нас есть 2 критерия и оба валидны на наших данных. Как понять какой из них лучше использовать на практике?\n",
        "\n",
        "Правильный ответ - надо сравнить мощность 2 критериев! Но как ее узнать?\n",
        "\n",
        "Предлагается повторить то жу процедулу, что мы далали выше, только вместо генерации эксперимента, когда верна H0, генерировать эксперимент, когда верна альтернатива. В случае сравнения средних - надо добавить эффект к тесту. И вместо FPRсчитать TPR - сколько раз мы ВЕРНО отвергли нулевую гипотезу (мощность). Чем больше - тем лучше.\n",
        "\n",
        "Проверим на t-тест."
      ],
      "metadata": {
        "id": "y3euNptFfWyT"
      }
    },
    {
      "cell_type": "code",
      "source": [
        "import numpy\n",
        "# from matplotlib import pyplot\n",
        "# from seaborn import displot\n",
        "from scipy.stats import norm\n",
        "# from scipy.stats import expon\n",
        "from scipy.stats import ttest_ind\n",
        "# from statsmodels.stats.proportion import proportion_confint\n",
        "# from statsmodels.stats.weightstats import CompareMeans, DescrStatsW"
      ],
      "metadata": {
        "id": "j21UtVUJgZnD"
      },
      "execution_count": null,
      "outputs": []
    },
    {
      "cell_type": "code",
      "source": [
        "numpy.random.seed(42)\n",
        "\n",
        "rej_cnt = 0\n",
        "N = 10000\n",
        "alpha = 0.05\n",
        "\n",
        "sample_dist = norm(loc=2, scale=3)\n",
        "mu = sample_dist.expect()\n",
        "\n",
        "for i in range(N):\n",
        "  # Генерирую выборку теста и контроля,\n",
        "\n",
        "  test = sample_dist.rvs(15)\n",
        "  control = sample_dist.rvs(15) * 2\n",
        "\n",
        "  # Запускаю критерий и считаю p-valde\n",
        "  pvalue = ttest_ind(test, control, equal_var=False, alternative='two-sided').pvalue\n",
        "\n",
        "  # Проверяю, что pvalue < alpha\n",
        "  rej_cnt += (pvalue < alpha)\n",
        "\n",
        "print(f\"TPR или мощность: {round(rej_cnt / N, 4)}\")"
      ],
      "metadata": {
        "colab": {
          "base_uri": "https://localhost:8080/"
        },
        "id": "KWeo2iYEFRHl",
        "outputId": "8765dd7d-3eb3-4f34-9281-6b6adf879e1b"
      },
      "execution_count": null,
      "outputs": [
        {
          "output_type": "stream",
          "name": "stdout",
          "text": [
            "TPR или мощность: 0.1938\n"
          ]
        }
      ]
    },
    {
      "cell_type": "markdown",
      "source": [
        "Видим, что мощность критерия в данном случае равняется 19%. Если есть второй критерий, надо запустить такую проверку для 2-го критерия и оценить какой критерий лучше, на забывая о стат.значимости.\n",
        "\n",
        "Внесем изменения:\n",
        "- больший эффект воздействия (выборки отличаются не в 2, а в 3 раза) - больший эффект проще задетектировать\n",
        "- размер выборки (выборка не 15, а 50) - чем больше выборка, тем проще задетектировать эффект\n",
        "\n",
        "На практике мощность 80% считается золотым стандартом."
      ],
      "metadata": {
        "id": "-_LE07n9hEVP"
      }
    },
    {
      "cell_type": "code",
      "source": [],
      "metadata": {
        "id": "KPSo0heBg2_O"
      },
      "execution_count": null,
      "outputs": []
    }
  ]
}
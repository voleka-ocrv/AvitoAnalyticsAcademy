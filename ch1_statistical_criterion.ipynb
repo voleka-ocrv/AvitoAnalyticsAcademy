{
  "nbformat": 4,
  "nbformat_minor": 0,
  "metadata": {
    "colab": {
      "provenance": [],
      "toc_visible": true,
      "authorship_tag": "ABX9TyPIwbHNlPwLYuDANjbAKTRy",
      "include_colab_link": true
    },
    "kernelspec": {
      "name": "python3",
      "display_name": "Python 3"
    },
    "language_info": {
      "name": "python"
    }
  },
  "cells": [
    {
      "cell_type": "markdown",
      "metadata": {
        "id": "view-in-github",
        "colab_type": "text"
      },
      "source": [
        "<a href=\"https://colab.research.google.com/github/voleka-ocrv/AvitoAnalyticsAcademy/blob/main/ch1_statistical_criterion.ipynb\" target=\"_parent\"><img src=\"https://colab.research.google.com/assets/colab-badge.svg\" alt=\"Open In Colab\"/></a>"
      ]
    },
    {
      "cell_type": "markdown",
      "source": [
        "# [1.1. Статистический критерий](https://www.youtube.com/watch?v=iCmrr0EDrG0&t=1347s)\n",
        "\n",
        "Задача:\n",
        "\n",
        "Есть компания, которая продает и доставляет людям товары.\n",
        "Курьер получает 500 руб. за каждую доставку.\n",
        "Если примерка проша успешно, клиент платит 1000 руб. за доставку и забирает товар (1000 - 500 = +500 руб.). Если нет - клиент ничего не выкупает и не платит (0 - 500 = -500 руб.)\n",
        "\n",
        "Согласно бизнес-модели, если клинеты будут выкупать заказ в 50% случаев, то компания выходит в ноль, если больше, то уже в прибыль.\n",
        "\n",
        "100 заказов\n",
        "50 выкупили = 50 доставок * 1000 руб. = 50 000 руб.\n",
        "50 не выкупили = 50 доставок\n",
        "\n",
        "| 100 доставок  |  Расходы | Доходы  | Выручка  |\n",
        "|---|---|---|---|\n",
        "|50 доставок выкуплено  |50 * 500 = 25 000|50 * 1000 = 50 000 |50 000 - 25 000 = 25 000|\n",
        "|50 доставок не выкуплено   |50 * 500 = 25 000   |50 * 0 = 0   |0 - 25 000 = -25 000   |\n",
        "|   |   |   |25 000 - 25 000 = 0   |"
      ],
      "metadata": {
        "id": "DUH2XESdnOcG"
      }
    },
    {
      "cell_type": "markdown",
      "source": [
        "## Гипотеза\n",
        "Хотим проверить гипотезу о том, что клиенты выкупают больше 50% заказов.\n",
        "Допустим, мы нашли 30 клиентов, 19 из которых выкупили заказ.\n",
        "\n",
        "11 * (-500) + 19 * 500 = -5500 + 9 500 = 4 000"
      ],
      "metadata": {
        "id": "n67VNZ1myywo"
      }
    },
    {
      "cell_type": "markdown",
      "source": [
        "## Вводим статистическую модель\n",
        "\n",
        "Возьмем 30 пользователей и предположим\n",
        "Предположим, что каждый пользователь семплирован из распределения Бернулли.\n",
        "\n",
        "$$\n",
        "ξ ~ Bernulli(μ)\n",
        "\n",
        "ξ1, ξ2, ..., ξ30\n",
        "$$\n",
        "\n",
        "## Статистический критерий\n",
        "### Шаг 1\n",
        "H0: mu = 50% (статус кво)\n",
        "H1: mu > 50% (изменения есть)\n",
        "\n",
        "### Шаг 2\n",
        "Случайная величина Q = xi1 + xi2 + ... + xi30 ~ Binom(n, mu) ~ Binom(30, 0.5) (для верной H0)\n",
        "\n",
        "Сумма n бернуллевских величин подчиняется Биномиальному распределению.\n",
        "### Шаг 3\n",
        "Установим произвольный порог равный 21\n",
        "```\n",
        "if Q >= 21:\n",
        "  reject H0\n",
        "else\n",
        "  not reject H0\n",
        "  ```\n",
        "### Шаг 4 Задаем критическую область (определить стат.значимость)\n",
        "alpha = стат.значимость 5%\n",
        "FPR (false positive rate) <= alpha\n",
        "\n",
        "Выбираем такой порог, чтобы, если полученное в ходе экспериманта знаение болше или равно значению критической области, отвергнуть H0.\n",
        "\n",
        "В нашем случае это 20.\n",
        "```\n",
        "if Q >= 20:\n",
        "  reject H0\n",
        "else\n",
        "  not reject H0\n",
        "```\n",
        "### Определение\n",
        "Статистический критерий уровня стат.значимости alpa\n",
        "Строгог математическое правило, которое выдает вердикт отвергать гипотезу или не отвергать причем вероятность ложноположительного критерия (FPR) ограничено сверху alpha.\n",
        "\n"
      ],
      "metadata": {
        "id": "LNyuFWb1zqlB"
      }
    },
    {
      "cell_type": "markdown",
      "source": [
        "# [1.2. Создаем статистические критерии в Python](https://www.youtube.com/watch?v=3Hu8xthLj0Q)"
      ],
      "metadata": {
        "id": "Wn3Fe-4u5cla"
      }
    },
    {
      "cell_type": "markdown",
      "source": [
        "## Часть 3. Статистические функции в Python\n",
        "\n",
        "В этой части посмотрим, как вывести то, что мы получили в части 2, с помощью Python. А также поймём, как найти подходящее $C$ с помощно Python.\n",
        "\n",
        "### Биномиальное распределение\n",
        "\n",
        "Мы выяснили, что статистика $Q$ имеет биномиальное распределение.\n",
        "\n",
        "Биномиальное распределение $Віном(n, μ)$ - распределение количества успехов в последовательно из $n$ независимых случайных экспериментов, вероятность успеха в каждом из которых равна $μ$.\n",
        "\n",
        "Чтобы работать с распределением, можно создать объект-распределение с помощью библиотеки scipy.stats."
      ],
      "metadata": {
        "id": "XlCgM5cP8wmQ"
      }
    },
    {
      "cell_type": "code",
      "source": [
        "from scipy.stats import binom\n",
        "import numpy\n",
        "from matplotlib import pyplot"
      ],
      "metadata": {
        "id": "wpkJ3QP5ApRP"
      },
      "execution_count": null,
      "outputs": []
    },
    {
      "cell_type": "code",
      "source": [
        "binom_h0 = binom(\n",
        "n = 30, # количество испытаний\n",
        "p = 0.5 # вероятность успеха\n",
        ")"
      ],
      "metadata": {
        "id": "zIGzXT9DA0-n"
      },
      "execution_count": null,
      "outputs": []
    },
    {
      "cell_type": "code",
      "source": [
        "binom_h0.rvs (1)"
      ],
      "metadata": {
        "colab": {
          "base_uri": "https://localhost:8080/"
        },
        "id": "9M6r8pqBA280",
        "outputId": "19e22d9b-7876-4d9c-f366-e3924ec0ffc7"
      },
      "execution_count": null,
      "outputs": [
        {
          "output_type": "execute_result",
          "data": {
            "text/plain": [
              "array([18])"
            ]
          },
          "metadata": {},
          "execution_count": 3
        }
      ]
    },
    {
      "cell_type": "markdown",
      "source": [
        "\n",
        "Функция вероятности\n",
        "\n",
        "Функция вероятности дискретного распределения $p_ξ(x)$ - вероятность с которой $ξ$ принимает значение $x$.\n",
        "\n",
        "В Python это функция рmf (probability mass function)."
      ],
      "metadata": {
        "id": "eIlcuq_2-X5Q"
      }
    },
    {
      "cell_type": "code",
      "source": [
        "binom_h0.pmf(21)"
      ],
      "metadata": {
        "colab": {
          "base_uri": "https://localhost:8080/"
        },
        "id": "gATD07tMA3yp",
        "outputId": "afc9be34-e5b4-4235-8902-2cdf110c1169"
      },
      "execution_count": null,
      "outputs": [
        {
          "output_type": "execute_result",
          "data": {
            "text/plain": [
              "0.013324571773409854"
            ]
          },
          "metadata": {},
          "execution_count": 4
        }
      ]
    },
    {
      "cell_type": "markdown",
      "source": [
        "Изобразим распределение статистики $Q$ при справедливости H0 на графике. Для этого можно передать сразу массив точек, для которых надо рассчитать вероятность."
      ],
      "metadata": {
        "id": "52rpqDAPCpDM"
      }
    },
    {
      "cell_type": "code",
      "source": [
        "pyplot.style.use('dark_background')"
      ],
      "metadata": {
        "id": "WqU4q95nHgFZ"
      },
      "execution_count": null,
      "outputs": []
    },
    {
      "cell_type": "code",
      "source": [
        "# координата\n",
        "x_grid = numpy.arange(1, 31)\n",
        "# высота столбцов на графике\n",
        "probs = binom_h0.pmf(x_grid)"
      ],
      "metadata": {
        "id": "JErKZRtoDHlK"
      },
      "execution_count": null,
      "outputs": []
    },
    {
      "cell_type": "code",
      "source": [
        "pyplot.figure(figsize=(10, 5))\n",
        "# 2 строим вертикальные столбцы от в до вероятности\n",
        "pyplot.vlines(x_grid, 0, probs, linewidth=15.0, color='white', label='PMF, $Binom (0.5, 30)$')\n",
        "# отдельно изобразим критическую области критерия\n",
        "crit_reg = x_grid >= 20\n",
        "pyplot.vlines(x_grid[crit_reg], 0, probs[crit_reg], linewidth=15.0, color='orange', label='Critical region for S')\n",
        "pyplot.title('Binomial distribution', fontsize=20)\n",
        "pyplot.legend(fontsize=18)\n",
        "pyplot.show()"
      ],
      "metadata": {
        "colab": {
          "base_uri": "https://localhost:8080/",
          "height": 476
        },
        "id": "g3wA8ERVCH7G",
        "outputId": "9a5f4d54-3567-4392-b15b-723bcc4c5cf3"
      },
      "execution_count": null,
      "outputs": [
        {
          "output_type": "display_data",
          "data": {
            "text/plain": [
              "<Figure size 1000x500 with 1 Axes>"
            ],
            "image/png": "[encoded data removed]"
          },
          "metadata": {}
        }
      ]
    },
    {
      "cell_type": "markdown",
      "source": [
        "На самом деле мы уже сейчас можем посчитать, какая вероятность попадания в критическую область. Нужно просто посуммировать высоту оранжевых столбцов.\n",
        "Получаем площадь закрашенной области, что равно вероятности попасть в эту критическую область. Она равна 5%"
      ],
      "metadata": {
        "id": "aGwpxA6zKOyW"
      }
    },
    {
      "cell_type": "code",
      "source": [
        "numpy.sum(probs[crit_reg])"
      ],
      "metadata": {
        "colab": {
          "base_uri": "https://localhost:8080/"
        },
        "id": "BmP-JXRgJjCD",
        "outputId": "5bc34dd1-4f3d-4f35-8ac7-23a65cc0c7f6"
      },
      "execution_count": null,
      "outputs": [
        {
          "output_type": "execute_result",
          "data": {
            "text/plain": [
              "0.049368573352694636"
            ]
          },
          "metadata": {},
          "execution_count": 8
        }
      ]
    },
    {
      "cell_type": "markdown",
      "source": [
        "Получаем то число, которое было в части 2. Значит мы действительно построили критерий уровня $α=0.05$. Более того, это критерий уровня $0.0494$ (т.е. вероятность ошибиться всего 4,9%), но такую точность обычно не используют.\n",
        "\n",
        "\n",
        "А что если бы взяли $C=19$?\n",
        "\n",
        "Вернемся к первоначальному примеру, в котором мы получили 19 успехов из 30 доставок.\n",
        "\n",
        "Тогда вероятность ошибки была бы равна 10%."
      ],
      "metadata": {
        "id": "mPkjFkvgKo4E"
      }
    },
    {
      "cell_type": "code",
      "source": [
        "crit_reg = x_grid >= 19\n",
        "numpy.sum(probs[crit_reg])"
      ],
      "metadata": {
        "colab": {
          "base_uri": "https://localhost:8080/"
        },
        "id": "4-DOsvi6KCdB",
        "outputId": "2be1352c-2899-4572-f11f-a51e15d81828"
      },
      "execution_count": null,
      "outputs": [
        {
          "output_type": "execute_result",
          "data": {
            "text/plain": [
              "0.10024421103298672"
            ]
          },
          "metadata": {},
          "execution_count": 9
        }
      ]
    },
    {
      "cell_type": "markdown",
      "source": [
        "## Куммулятивная функция распределения\n",
        "Куммулятивная функция распределения - вероятность того, что величина примет значение X или меньше.\n",
        "\n",
        "Допустим мы хотим найти такое количество столбиков справа, такое, что суммарное количество = 5%\n",
        "\n",
        "Это равносильно задаче найти квантиль 95%\n",
        "\n",
        "Найди суммарную площадь столбцов\n"
      ],
      "metadata": {
        "id": "ECusdSGdK-b-"
      }
    },
    {
      "cell_type": "markdown",
      "source": [
        "## Квантиль\n",
        "Чтобы выбрать критическую область для критерия, мы хотели бы найти точку, площадь столбцов справа от которой была бы 5%. То есть площадь столбцов слева 95%. Такая точка называется кантилью.\n",
        "\n",
        "Но при р = 0.95 и нашем биномнальном распределения, такой точех нет. Мы выяснили, что есть точка, справа от которой площадь 0.494, а у следующий уже 0.1.\n",
        "\n",
        "Чтобы определить квантиль в этом случае, модифицируем определение:\n",
        "\n",
        "Квантиль $Quantile_p(ξ)=u_p(ξ) = min\\{x|F_ξ(x) ≥ p\\}$\n",
        "Вуличина, которую $ξ$ не превышает с вероятностью хотя бы $p$.\n",
        "\n",
        "**Пример**\n",
        "\n",
        "Для величины - $Binom(30, 0.5)$ посчитаем 0.95-квантиль. Решим задачу просто подбором.\n",
        "\n",
        "$P(ξ≤18) ≈ 0.90 $\n",
        "\n",
        "$P(ξ≤19) ≈ 0.951 $\n",
        "\n",
        "$P(ξ≤20) ≈ 0.97 $\n",
        "\n",
        "Видим, что 18 нам ещё не подходит, а 19 и большие значение уже подойдут. В них функция респределения будет больше $p$. Ответ - наименьшее подходящее значение, т.е. 19. При этом нет точки, где функция распределения была бы равна $p$ в точности.\n",
        "\n",
        "Если бы распределение было непрерывное, можно было бы сказать, что квантиль - такое $x$ на котором функция распределения равна $p$. Но в прошлом пункте мы увидели, что для дис дискретного распределения такого может не быть.\n",
        "\n",
        "В Python квантиль можно посчитать через функцно ppf. (percent point function)"
      ],
      "metadata": {
        "id": "J9CTHZvbQ0J2"
      }
    },
    {
      "cell_type": "code",
      "source": [
        "binom_h0.ppf(0.95)"
      ],
      "metadata": {
        "colab": {
          "base_uri": "https://localhost:8080/"
        },
        "id": "HyKGJQ2YQxN2",
        "outputId": "346359ed-f9b3-4db9-fb67-02de792f70ca"
      },
      "execution_count": null,
      "outputs": [
        {
          "output_type": "execute_result",
          "data": {
            "text/plain": [
              "19.0"
            ]
          },
          "metadata": {},
          "execution_count": 10
        }
      ]
    },
    {
      "cell_type": "markdown",
      "source": [
        "Если площать до 19 столбика (строго до, не включая 19), это 95%, то площадь столбиков 20+ это 5%"
      ],
      "metadata": {
        "id": "_IY_VkCuVxbg"
      }
    },
    {
      "cell_type": "code",
      "source": [
        "binom_h0.cdf(19)"
      ],
      "metadata": {
        "colab": {
          "base_uri": "https://localhost:8080/"
        },
        "id": "mRGIdftcWFdk",
        "outputId": "11dd7eb4-7473-4c06-86f3-eacc72cdb4b2"
      },
      "execution_count": null,
      "outputs": [
        {
          "output_type": "execute_result",
          "data": {
            "text/plain": [
              "0.9506314266473055"
            ]
          },
          "metadata": {},
          "execution_count": 11
        }
      ]
    },
    {
      "cell_type": "code",
      "source": [
        "1 - binom_h0.cdf(19)"
      ],
      "metadata": {
        "colab": {
          "base_uri": "https://localhost:8080/"
        },
        "id": "IxMnlXY0WLWs",
        "outputId": "15304726-2b69-4d62-e061-4244e3dce2b4"
      },
      "execution_count": null,
      "outputs": [
        {
          "output_type": "execute_result",
          "data": {
            "text/plain": [
              "0.04936857335269451"
            ]
          },
          "metadata": {},
          "execution_count": 12
        }
      ]
    },
    {
      "cell_type": "markdown",
      "source": [
        "Как теперь подобрать $C$ для любых $n$, $μ$ и для любого уровня значимости $α$?\n",
        "\n",
        "1. Требуется найти $C$, такое что $P(Q ≥ C) ≤ α$\n",
        "2. То есть требуется $P(Q < C) ≥ 1 - α $\n",
        "3. $Q$ принимает только целые значения: $P(Q ≤ C - 1) ≥ 1 - α$ , или $F(c - 1) ≥ 1 - α$\n",
        "4. Значит, из определения квантили, $C - 1 =u_{1-α}$\n",
        "5. Значит $C=u_{1-α}+1$"
      ],
      "metadata": {
        "id": "a2nyC_MbTccC"
      }
    },
    {
      "cell_type": "code",
      "source": [
        "def make_binom_criterion(n, mu=0.5, alpha = 0.05 ) :\n",
        "  \"\"\"Строит критерий для задачи с доставкой\n",
        "\n",
        "    Параметры:\n",
        "      n: количество доставок в эксперименте\n",
        "      mu: вероятность успеха в нулевой гипотезе\n",
        "      alpha: уровень значимости критерия\n",
        "\n",
        "    Возвращает:\n",
        "      С для критерия S = {0 >= C}\n",
        "  \"\"\"\n",
        "  binom_h0 = binom(n=n, p=mu)\n",
        "  q = binom_h0.ppf(1-alpha)\n",
        "  return q + 1"
      ],
      "metadata": {
        "id": "32W6hqPDKx39"
      },
      "execution_count": null,
      "outputs": []
    },
    {
      "cell_type": "code",
      "source": [
        "print(f'if 0 >= ', make_binom_criterion(n=30, mu=0.5, alpha=0.05), 'then reject H0')"
      ],
      "metadata": {
        "colab": {
          "base_uri": "https://localhost:8080/"
        },
        "id": "q4m8WX4NVYvI",
        "outputId": "d073400d-17a0-4808-82b9-980b3edafa1e"
      },
      "execution_count": null,
      "outputs": [
        {
          "output_type": "stream",
          "name": "stdout",
          "text": [
            "if 0 >=  20.0 then reject H0\n"
          ]
        }
      ]
    },
    {
      "cell_type": "markdown",
      "source": [
        "$Q=19$, значит H0 (клиенты выкупают в 50% случаев - бизнес не выгоден) мы не отвергаем.\n",
        "\n",
        "При этом нам удалось построить процесс, по которому мы принимаем решение для любого уровня значимости и значения статистики критерия."
      ],
      "metadata": {
        "id": "rK3v1tDNa3DO"
      }
    },
    {
      "cell_type": "markdown",
      "source": [
        "# [1.3. Cтатистический критерий уровня статзначимости α](https://www.youtube.com/watch?v=2tnhLq9eYZU&t=2s)"
      ],
      "metadata": {
        "id": "WtcBBWChcYoi"
      }
    },
    {
      "cell_type": "markdown",
      "source": [
        "\n",
        "```\n",
        "if p-value <= alpha:\n",
        "  reject H0\n",
        "else:\n",
        "  not reject H0\n",
        "```\n",
        "\n"
      ],
      "metadata": {
        "id": "UbBRnNLLdVlm"
      }
    },
    {
      "cell_type": "code",
      "source": [
        "def pvalue_binom(n, mu, q):\n",
        "\n",
        "  \"\"\"Считает рѵalue для задачи с доставкой\n",
        "\n",
        "  Параметры:\n",
        "    n: количество доставок в эксперименте\n",
        "    q: количество успешных доставок\n",
        "\n",
        "  Возвращает:\n",
        "    pvalue для критерия S = {|0 - 15| >= C}\n",
        "  \"\"\"\n",
        "  binom_h0 = binom(n=n, p=mu)\n",
        "  return 1 - binom_h0.cdf(q - 1)"
      ],
      "metadata": {
        "id": "jjAjrU5teydJ"
      },
      "execution_count": null,
      "outputs": []
    },
    {
      "cell_type": "code",
      "source": [
        "print(f'if {pvalue_binom(n=30, mu=0.5, q = 20):0.4} <= alpha, then reject HO')"
      ],
      "metadata": {
        "colab": {
          "base_uri": "https://localhost:8080/"
        },
        "id": "eYq6Nnilf4PE",
        "outputId": "4badf98c-bd81-429d-f340-9e1f3c7b8896"
      },
      "execution_count": null,
      "outputs": [
        {
          "output_type": "stream",
          "name": "stdout",
          "text": [
            "if 0.04937 <= alpha, then reject HO\n"
          ]
        }
      ]
    },
    {
      "cell_type": "markdown",
      "source": [
        "Таким образом у нас нет оснований отклонить H0."
      ],
      "metadata": {
        "id": "qg3ADg5biS3Q"
      }
    },
    {
      "cell_type": "markdown",
      "source": [
        "# [1.4. Двусторонние критерии](https://www.youtube.com/watch?v=Od929fnVxPo&t=29s)\n",
        "До этого момента нас интересовали лонение от верактности в 50% только в одну сторону. И логично, ведь это продиктоване бизнес-смыслен. Только большая доля успешных деставах приведёт к успеху. И обычно при приметы решений так и бывает. При тестировании нового решения на продукта рассматриве одностороня гипотеза, потому что в противном случае нет смысле внедрить решение на всех пользователей.\n",
        "\n",
        "Однако иногда может потребоваться доказывать отклонения в обе стороны, если вы провериете каное-то предположение. Пусть вам дали монетку и просят проверить, честная она или нет. Мечетка частное, если при подбрасываниях вероятность выпадения прие равна 0.5. Вы подбрасываете монетку 30 раз, каждый бросок Бернулиевск величина, аналогична задача с доставками. И нулевая гипотезата не самок a = 0.5 На теперь мы хотим отвергать эту гипотезу как в случае большой вероятности орла, так и решки."
      ],
      "metadata": {
        "id": "9oUUGT2-jSnA"
      }
    },
    {
      "cell_type": "code",
      "source": [
        "binom_h0_nonsym = binom(\n",
        "n = 30, # количество испытаний\n",
        "p = 0.8 # вероятность успеха\n",
        ")"
      ],
      "metadata": {
        "id": "CsEJnoNnnBYy"
      },
      "execution_count": null,
      "outputs": []
    },
    {
      "cell_type": "code",
      "source": [
        "pyplot.figure(figsize=(10, 5))\n",
        "\n",
        "# считаем вероятности значений суммы\n",
        "probs = binom_h0_nonsym.pmf(x_grid) #probability mass funcion\n",
        "\n",
        "# строим вертикальные столбцы от и до вероятности\n",
        "\n",
        "pyplot.vlines(x_grid, 0, probs, linewidth=15.0, color='white', label='PMF, $Binom (0.8, 30)$')\n",
        "pyplot.title('Binomial distribution', fontsize=20)\n",
        "pyplot.legend(fontsize=18, loc='upper left')\n",
        "pyplot.show()"
      ],
      "metadata": {
        "colab": {
          "base_uri": "https://localhost:8080/",
          "height": 476
        },
        "id": "avNQax9tgpdX",
        "outputId": "7982abe6-f15d-4215-bdbf-a3a188b2e969"
      },
      "execution_count": null,
      "outputs": [
        {
          "output_type": "display_data",
          "data": {
            "text/plain": [
              "<Figure size 1000x500 with 1 Axes>"
            ],
            "image/png": "[encoded data removed]"
          },
          "metadata": {}
        }
      ]
    },
    {
      "cell_type": "code",
      "source": [
        "def two_sided_criterion_nonsym(n, mu, alpha):\n",
        "  \"\"\"Строит двусторонний критерий для несимметричной задачи с доставкой\n",
        "\n",
        "  Параметры:\n",
        "\n",
        "  n: количество доставок в эксперименте\n",
        "\n",
        "  mu: вероятность успеха в нулевой гипотезе\n",
        "\n",
        "  alpha: уровень значимости критерия\n",
        "\n",
        "  Возвращает:\n",
        "\n",
        "  С1, С2 для критерия S = {Q <= C1 или Q >= C2}\n",
        "  \"\"\"\n",
        "  binom_h0 = binom(n=n, p=mu)\n",
        "\n",
        "  # аналогично одностороннему критерию\n",
        "  c2 = binom_h0.ppf(1 - alpha/2) + 1\n",
        "\n",
        "  # по выкладкам выше\n",
        "  c1 = binom_h0.ppf(alpha/2) - 1\n",
        "\n",
        "  return c1, c2"
      ],
      "metadata": {
        "id": "l040wBJGnpm4"
      },
      "execution_count": null,
      "outputs": []
    },
    {
      "cell_type": "code",
      "source": [
        "c1, c2 = two_sided_criterion_nonsym(30, 0.8, 0.05)\n",
        "c1, c2"
      ],
      "metadata": {
        "colab": {
          "base_uri": "https://localhost:8080/"
        },
        "id": "MVw3KLWJox3B",
        "outputId": "c779a058-e25c-4baa-85b3-fa8995335bd6"
      },
      "execution_count": null,
      "outputs": [
        {
          "output_type": "execute_result",
          "data": {
            "text/plain": [
              "(18.0, 29.0)"
            ]
          },
          "metadata": {},
          "execution_count": 28
        }
      ]
    },
    {
      "cell_type": "code",
      "source": [
        "1 - pvalue_binom(30, 0.8, c1)"
      ],
      "metadata": {
        "colab": {
          "base_uri": "https://localhost:8080/"
        },
        "id": "NHVQmt0So-wU",
        "outputId": "fe55e66f-fccb-4dcc-986c-bd8122f80a1d"
      },
      "execution_count": null,
      "outputs": [
        {
          "output_type": "execute_result",
          "data": {
            "text/plain": [
              "0.003111048631983415"
            ]
          },
          "metadata": {},
          "execution_count": 40
        }
      ]
    },
    {
      "cell_type": "code",
      "source": [
        "pvalue_binom(30, 0.8, c2)"
      ],
      "metadata": {
        "colab": {
          "base_uri": "https://localhost:8080/"
        },
        "id": "vsarAV3qp4GF",
        "outputId": "4e93e345-fa08-4996-a168-51cecfa4235a"
      },
      "execution_count": null,
      "outputs": [
        {
          "output_type": "execute_result",
          "data": {
            "text/plain": [
              "0.010522490333925716"
            ]
          },
          "metadata": {},
          "execution_count": 31
        }
      ]
    },
    {
      "cell_type": "markdown",
      "source": [
        "Значит наш критерий для проверки гипотезы\n",
        "\n",
        "$H_0: μ = 0.08$\n",
        "\n",
        "$H_1: μ ≠ 0.08$\n",
        "\n",
        "имеет вид\n",
        "\n",
        "$S = \\{Q(ξ) ≤ 18\\} U \\{Q(ξ) ≥ 29\\} $\n"
      ],
      "metadata": {
        "id": "PeiD6XWwrM9S"
      }
    },
    {
      "cell_type": "code",
      "source": [],
      "metadata": {
        "id": "_vnFCb7wq_Q1"
      },
      "execution_count": null,
      "outputs": []
    }
  ]
}